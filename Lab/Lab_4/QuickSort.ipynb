{
  "nbformat": 4,
  "nbformat_minor": 0,
  "metadata": {
    "colab": {
      "provenance": []
    },
    "kernelspec": {
      "name": "python3",
      "display_name": "Python 3"
    },
    "language_info": {
      "name": "python"
    }
  },
  "cells": [
    {
      "cell_type": "code",
      "execution_count": 3,
      "metadata": {
        "id": "p-lwu-hmGKD2",
        "colab": {
          "base_uri": "https://localhost:8080/",
          "height": 334
        },
        "outputId": "258e5ee5-aea7-4eea-f60d-836e939a2b45"
      },
      "outputs": [
        {
          "output_type": "stream",
          "name": "stdout",
          "text": [
            "\n",
            "\n",
            "Sorted array is\n",
            "100 200 300 400 500 600 700 800 900 1000 "
          ]
        },
        {
          "output_type": "display_data",
          "data": {
            "text/plain": [
              "<Figure size 432x288 with 1 Axes>"
            ],
            "image/png": "[encoded data removed]"
          },
          "metadata": {
            "needs_background": "light"
          }
        }
      ],
      "source": [
        "from matplotlib import pyplot\n",
        "import numpy as np\n",
        "import timeit\n",
        "from functools import partial\n",
        "import random\n",
        "def partition(array, low, high):\n",
        "    pivot = array[high]\n",
        "\n",
        "    i = low - 1\n",
        "  \n",
        "    for j in range(low, high):\n",
        "        if array[j] <= pivot:\n",
        "            i = i + 1\n",
        "            (array[i], array[j]) = (array[j], array[i])\n",
        "  \n",
        "    (array[i + 1], array[high]) = (array[high], array[i + 1])\n",
        "  \n",
        "    return i + 1\n",
        "  \n",
        "def quick_sort(array, low, high):\n",
        "    if low < high:\n",
        "        pi = partition(array, low, high)\n",
        "  \n",
        "        quick_sort(array, low, pi - 1)\n",
        "  \n",
        "        quick_sort(array, pi + 1, high)\n",
        "  \n",
        "\n",
        "arr = [100, 200, 300, 400, 500, 600, 700, 800, 900, 1000]\n",
        "N = 10\n",
        "low = 0\n",
        "high = len(arr) - 1\n",
        " \n",
        "quick_sort(arr, 0, N-1)\n",
        "print(\"\\n\\nSorted array is\")\n",
        "for i in range(N):\n",
        "    print(\"%d\" % arr[i],end=\" \")\n",
        "\n",
        "def plotTC(fn, nMin, nMax, nInc, nTests):\n",
        "    \"\"\"\n",
        "    Run timer and plot time complexity\n",
        "    \"\"\"\n",
        "    x = []\n",
        "    y = []\n",
        "    for i in range(nMin, nMax, nInc):\n",
        "        N = i\n",
        "        testNTimer = timeit.Timer(partial(fn, arr, low, high))\n",
        "        t = testNTimer.timeit(number=nTests)\n",
        "        x.append(i)\n",
        "        y.append(t)\n",
        "    p1 = pyplot.plot(x, y, 'o')\n",
        "    #pyplot.legend([p1,], [fn.__name__, ])\n",
        "\n",
        "# main() function\n",
        "def main():\n",
        "\n",
        "    plotTC(quick_sort, 10, 1000, 10, 1000)\n",
        "\n",
        "    pyplot.show()\n",
        "\n",
        "# call main\n",
        "if __name__ == '__main__':\n",
        "    main()\n"
      ]
    }
  ]
}