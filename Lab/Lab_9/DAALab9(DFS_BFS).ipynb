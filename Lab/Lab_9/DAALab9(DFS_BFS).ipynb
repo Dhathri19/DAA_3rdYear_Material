{
  "nbformat": 4,
  "nbformat_minor": 0,
  "metadata": {
    "colab": {
      "provenance": []
    },
    "kernelspec": {
      "name": "python3",
      "display_name": "Python 3"
    },
    "language_info": {
      "name": "python"
    }
  },
  "cells": [
    {
      "cell_type": "code",
      "execution_count": 5,
      "metadata": {
        "id": "PW7wJPLgGp-h"
      },
      "outputs": [],
      "source": [
        "from queue import Queue"
      ]
    },
    {
      "cell_type": "code",
      "source": [
        "graph = {\n",
        "            5 : [3, 7],\n",
        "            3 : [2, 4],\n",
        "            7 : [8, 9],\n",
        "            2 : [10],\n",
        "            4 : [8],\n",
        "            8 : [],\n",
        "            9 : [],\n",
        "            10 : []\n",
        "        }"
      ],
      "metadata": {
        "id": "2ozOPof-IpUR"
      },
      "execution_count": 6,
      "outputs": []
    },
    {
      "cell_type": "code",
      "source": [
        "def BFS(graph, starting_node, target_node):\n",
        "    \n",
        "    BFS_path = []\n",
        "    \n",
        "    visited_nodes = list()\n",
        "    queue = Queue()\n",
        "    \n",
        "    queue.put(starting_node)\n",
        "    visited_nodes.append(starting_node)\n",
        "    \n",
        "    while(not queue.empty()):\n",
        "        \n",
        "        current_node = queue.get()\n",
        "        BFS_path.append(current_node)\n",
        "        \n",
        "        if(current_node == target_node):\n",
        "            return BFS_path\n",
        "            \n",
        "        for neighbour_node in graph[current_node]:\n",
        "            if(neighbour_node not in visited_nodes):\n",
        "                queue.put(neighbour_node)\n",
        "                visited_nodes.append(neighbour_node)\n",
        "        "
      ],
      "metadata": {
        "id": "cw4aP2gKIvZ4"
      },
      "execution_count": 7,
      "outputs": []
    },
    {
      "cell_type": "code",
      "source": [
        "BFS_sNode = int(input(\"Enter the source node: \"))\n",
        "BFS_tNode = int(input(\"Enter the target node: \"))\n",
        "\n",
        "BFS_path = BFS(graph, BFS_sNode, BFS_tNode)\n",
        "print(BFS_path)"
      ],
      "metadata": {
        "colab": {
          "base_uri": "https://localhost:8080/"
        },
        "id": "mNEk6yIkJt-d",
        "outputId": "bfd8d7d4-2a3e-4baf-a45b-b327cec99898"
      },
      "execution_count": 9,
      "outputs": [
        {
          "output_type": "stream",
          "name": "stdout",
          "text": [
            "Enter the source node: 5\n",
            "Enter the target node: 8\n",
            "[5, 3, 7, 2, 4, 8]\n"
          ]
        }
      ]
    },
    {
      "cell_type": "code",
      "source": [
        "DFS_path = []"
      ],
      "metadata": {
        "id": "ZPKqbUHuKpJY"
      },
      "execution_count": 10,
      "outputs": []
    },
    {
      "cell_type": "code",
      "source": [
        "def DFS(graph, starting_node, target_node, path, visited = []):\n",
        "    path.append(starting_node)\n",
        "    visited.append(starting_node)\n",
        "    if starting_node == target_node:\n",
        "        return path\n",
        "    for neighbour_node in graph[starting_node]:\n",
        "        if neighbour_node not in visited:\n",
        "            result = DFS(graph, neighbour_node, target_node, path, visited)\n",
        "            if result is not None:\n",
        "                return result\n",
        "    path.pop()\n",
        "    return None"
      ],
      "metadata": {
        "id": "cmQtQ4DKK3Bn"
      },
      "execution_count": 11,
      "outputs": []
    },
    {
      "cell_type": "code",
      "source": [
        "DFS_path = []\n",
        "DFS_sNode = int(input(\"Enter the source node: \"))\n",
        "DFS_tNode = int(input(\"Enter the target node: \"))\n",
        "DFS_path = DFS(graph, DFS_sNode, DFS_tNode, DFS_path)\n",
        "print(DFS_path)"
      ],
      "metadata": {
        "colab": {
          "base_uri": "https://localhost:8080/"
        },
        "id": "vByYywNvK7Cq",
        "outputId": "f56f71ca-409b-4770-9014-ff1cdc81168b"
      },
      "execution_count": 12,
      "outputs": [
        {
          "output_type": "stream",
          "name": "stdout",
          "text": [
            "Enter the source node: 5\n",
            "Enter the target node: 8\n",
            "[5, 3, 4, 8]\n"
          ]
        }
      ]
    }
  ]
}