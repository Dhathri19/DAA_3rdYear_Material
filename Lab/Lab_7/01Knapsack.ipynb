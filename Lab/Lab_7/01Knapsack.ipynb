{
  "nbformat": 4,
  "nbformat_minor": 0,
  "metadata": {
    "colab": {
      "provenance": []
    },
    "kernelspec": {
      "name": "python3",
      "display_name": "Python 3"
    },
    "language_info": {
      "name": "python"
    }
  },
  "cells": [
    {
      "cell_type": "code",
      "execution_count": 4,
      "metadata": {
        "id": "du9uVTdzdb2A",
        "colab": {
          "base_uri": "https://localhost:8080/",
          "height": 282
        },
        "outputId": "5e2f1655-166d-4037-a263-338b82bd64a7"
      },
      "outputs": [
        {
          "output_type": "stream",
          "name": "stdout",
          "text": [
            "220\n"
          ]
        },
        {
          "output_type": "display_data",
          "data": {
            "text/plain": [
              "<Figure size 432x288 with 1 Axes>"
            ],
            "image/png": "[encoded data removed]"
          },
          "metadata": {
            "needs_background": "light"
          }
        }
      ],
      "source": [
        "from matplotlib import pyplot\n",
        "import numpy as np\n",
        "import timeit\n",
        "from functools import partial\n",
        "import random\n",
        "\n",
        "\n",
        "def knapSack(W, wt, val, n):\n",
        "    K = [[0 for x in range(W + 1)] for x in range(n + 1)]\n",
        " \n",
        "    # Build table K[][] in bottom up manner\n",
        "    for i in range(n + 1):\n",
        "        for w in range(W + 1):\n",
        "            if i == 0 or w == 0:\n",
        "                K[i][w] = 0\n",
        "            elif wt[i-1] <= w:\n",
        "                K[i][w] = max(val[i-1]\n",
        "                          + K[i-1][w-wt[i-1]], \n",
        "                              K[i-1][w])\n",
        "            else:\n",
        "                K[i][w] = K[i-1][w]\n",
        " \n",
        "    return K[n][W]\n",
        " \n",
        " \n",
        "# Driver code\n",
        "val = [60, 100, 120]\n",
        "wt = [10, 20, 30]\n",
        "W = 50\n",
        "n = len(val)\n",
        "elements = list()\n",
        "times = list()\n",
        "print(knapSack(W, wt, val, n))\n",
        "\n",
        "def plotTC(fn, nMin, nMax, nInc, nTests):\n",
        "    \"\"\"\n",
        "    Run timer and plot time complexity\n",
        "    \"\"\"\n",
        "    x = []\n",
        "    y = []\n",
        "    for i in range(nMin, nMax, nInc):\n",
        "        N = i\n",
        "        testNTimer = timeit.Timer(partial(fn, W, wt, val, n))\n",
        "        t = testNTimer.timeit(number=nTests)\n",
        "        x.append(i)\n",
        "        y.append(t)\n",
        "    p1 = pyplot.plot(x, y, 'o')\n",
        "    #pyplot.legend([p1,], [fn.__name__, ])\n",
        "\n",
        "# main() function\n",
        "def main():\n",
        "\n",
        "    plotTC(knapSack, 10, 1000, 10, 1000)\n",
        "\n",
        "    pyplot.show()\n",
        "\n",
        "# call main\n",
        "if __name__ == '__main__':\n",
        "    main()"
      ]
    }
  ]
}