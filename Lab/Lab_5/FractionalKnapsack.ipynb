{
  "nbformat": 4,
  "nbformat_minor": 0,
  "metadata": {
    "colab": {
      "provenance": []
    },
    "kernelspec": {
      "name": "python3",
      "display_name": "Python 3"
    },
    "language_info": {
      "name": "python"
    }
  },
  "cells": [
    {
      "cell_type": "code",
      "source": [
        "from matplotlib import pyplot\n",
        "import numpy as np\n",
        "import timeit\n",
        "from functools import partial\n",
        "import random\n",
        "\n",
        "\n",
        "def fractionalknapsack(values,weights,Total_capacity):\n",
        "    n = len(values)\n",
        "\n",
        "    def score(i) : return values[i]/weights[i]\n",
        "\n",
        "    items = sorted(range(n)  , key=score , reverse = True)\n",
        "    sel, value,weight = [],0,0\n",
        "    for i in items:\n",
        "        if weight +weights[i] <= Total_capacity:\n",
        "            sel += [i]\n",
        "            weight += weights[i]\n",
        "            value += values [i]\n",
        "    return value\n",
        "\n",
        "# values = []\n",
        "# weights = []\n",
        "# elements = list()\n",
        "# times = list()\n",
        "\n",
        "N = 5\n",
        "values = [5, 10, 15, 20, 25, 30]\n",
        "weights = [10, 15, 20, 25, 30, 35]\n",
        "\n",
        "\"\"\"print(\"Enter the values: \")\n",
        "for i in range(0, N):\n",
        "    ele = int(input())\n",
        "    values.append(ele)\n",
        "print(values)\"\"\"\n",
        "\n",
        "\"\"\"print(\"Enter the weights: \")\n",
        "for i in range(0, N):\n",
        "    ele = int(input())\n",
        "    weights.append(ele)\n",
        "print(weights)\"\"\"\n",
        "\n",
        "Total_capacity = 11\n",
        "\n",
        "rvalue = fractionalknapsack(values, weights, Total_capacity)\n",
        "\n",
        "print(\"Value is: \", rvalue)\n",
        "\n",
        "def plotTC(fn, nMin, nMax, nInc, nTests):\n",
        "    \"\"\"\n",
        "    Run timer and plot time complexity\n",
        "    \"\"\"\n",
        "    x = []\n",
        "    y = []\n",
        "    for i in range(nMin, nMax, nInc):\n",
        "        N = i\n",
        "        testNTimer = timeit.Timer(partial(fn, values, weights, Total_capacity))\n",
        "        t = testNTimer.timeit(number=nTests)\n",
        "        x.append(i)\n",
        "        y.append(t)\n",
        "    p1 = pyplot.plot(x, y, 'o')\n",
        "    #pyplot.legend([p1,], [fn.__name__, ])\n",
        "\n",
        "# main() function\n",
        "def main():\n",
        "\n",
        "    plotTC(fractionalknapsack, 10, 1000, 10, 1000)\n",
        "\n",
        "    pyplot.show()\n",
        "\n",
        "# call main\n",
        "if __name__ == '__main__':\n",
        "    main()"
      ],
      "metadata": {
        "colab": {
          "base_uri": "https://localhost:8080/",
          "height": 282
        },
        "id": "hBTHPP2GRQip",
        "outputId": "4c8780e5-c9c1-4281-b7b5-e76806b7a32a"
      },
      "execution_count": 2,
      "outputs": [
        {
          "output_type": "stream",
          "name": "stdout",
          "text": [
            "Value is:  5\n"
          ]
        },
        {
          "output_type": "display_data",
          "data": {
            "text/plain": [
              "<Figure size 432x288 with 1 Axes>"
            ],
            "image/png": "[encoded data removed]"
          },
          "metadata": {
            "needs_background": "light"
          }
        }
      ]
    }
  ]
}