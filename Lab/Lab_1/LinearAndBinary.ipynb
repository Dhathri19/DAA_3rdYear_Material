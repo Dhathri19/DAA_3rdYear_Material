{
  "nbformat": 4,
  "nbformat_minor": 0,
  "metadata": {
    "colab": {
      "provenance": [],
      "collapsed_sections": []
    },
    "kernelspec": {
      "name": "python3",
      "display_name": "Python 3"
    },
    "language_info": {
      "name": "python"
    }
  },
  "cells": [
    {
      "cell_type": "code",
      "execution_count": 1,
      "metadata": {
        "colab": {
          "base_uri": "https://localhost:8080/",
          "height": 733
        },
        "id": "qMUNAe6GM3pm",
        "outputId": "56a300ae-13c2-4dff-ad0a-1a539e164d81"
      },
      "outputs": [
        {
          "output_type": "stream",
          "name": "stdout",
          "text": [
            "Enter number of elements : 5\n",
            "Enter the element you want to search: 3\n",
            "Enter the elements: \n",
            "1\n",
            "2\n",
            "3\n",
            "4\n",
            "5\n",
            "[1, 2, 3, 4, 5]\n",
            "Element is present at index 2\n",
            "Element is present at index 2\n",
            "Element is present at index 2\n",
            "Element is present at index 2\n",
            "Element is present at index 2\n",
            "1000 Elements used in LinearSearch:  0.0006209999999997606\n",
            "2000 Elements used in LinearSearch:  0.0002900000000001235\n",
            "3000 Elements used in LinearSearch:  0.0008089999999998376\n",
            "4000 Elements used in LinearSearch:  0.0011280000000000179\n",
            "5000 Elements used in LinearSearch:  0.0012889999999998736\n",
            "6000 Elements used in LinearSearch:  0.0015259999999996943\n",
            "7000 Elements used in LinearSearch:  0.0018259999999998833\n",
            "8000 Elements used in LinearSearch:  0.002092000000000205\n",
            "9000 Elements used in LinearSearch:  0.002458999999999989\n"
          ]
        },
        {
          "output_type": "stream",
          "name": "stderr",
          "text": [
            "/usr/local/lib/python3.7/dist-packages/ipykernel_launcher.py:40: DeprecationWarning: time.clock has been deprecated in Python 3.3 and will be removed from Python 3.8: use time.perf_counter or time.process_time instead\n",
            "/usr/local/lib/python3.7/dist-packages/ipykernel_launcher.py:42: DeprecationWarning: time.clock has been deprecated in Python 3.3 and will be removed from Python 3.8: use time.perf_counter or time.process_time instead\n"
          ]
        },
        {
          "output_type": "display_data",
          "data": {
            "text/plain": [
              "<Figure size 432x288 with 1 Axes>"
            ],
            "image/png": "[encoded data removed]"
          },
          "metadata": {
            "needs_background": "light"
          }
        }
      ],
      "source": [
        "import time\n",
        "from numpy.random import seed\n",
        "from numpy.random import randint\n",
        "import matplotlib.pyplot as plt\n",
        " \n",
        "def search(arr, x):\n",
        " \n",
        "    for i in range(len(arr)):\n",
        " \n",
        "        if arr[i] == x:\n",
        "            return i\n",
        " \n",
        "    return -1\n",
        "\n",
        "Array = []\n",
        "elements = list()\n",
        "times = list()\n",
        "\n",
        "N = int(input(\"Enter number of elements : \"))\n",
        "key = int(input(\"Enter the element you want to search: \"))\n",
        "\n",
        "print(\"Enter the elements: \")\n",
        "for i in range(0, N):\n",
        "    ele = int(input())\n",
        "    Array.append(ele)\n",
        "print(Array)\n",
        "\n",
        "for i in range(0, len(Array)): \n",
        "    result = search(Array, key)\n",
        "    if result != -1:\n",
        "      print(\"Element is present at index \" + str(result))\n",
        "    else:\n",
        "      print(\"Not found\")\n",
        "\n",
        "for i in range(1, 10):\n",
        " \n",
        "    # generate some integers\n",
        "    a = randint(0, 10005 * i, 1000 * i)\n",
        "    # print(i)\n",
        "    start = time.clock()\n",
        "    search(a, key)\n",
        "    end = time.clock()\n",
        " \n",
        "    # print(\"Sorted list is \", a)\n",
        "    print(len(a), \"Elements used in LinearSearch: \", end-start)\n",
        "    elements.append(len(a))\n",
        "    times.append(end-start)\n",
        "\n",
        "plt.xlabel('List Length')\n",
        "plt.ylabel('Time Complexity')\n",
        "plt.plot(elements, times, label ='Linear Search')\n",
        "plt.grid()\n",
        "plt.legend()\n",
        "plt.show()\n",
        "\n"
      ]
    },
    {
      "cell_type": "code",
      "source": [
        "from matplotlib import pyplot\n",
        "import numpy as np\n",
        "import timeit\n",
        "from functools import partial\n",
        "import random\n",
        " \n",
        "def binarySearch(N):\n",
        "\n",
        "    # Repeat until the pointers low and high meet each other\n",
        "    array = [100, 200, 300, 400, 500, 600, 700, 800, 900, 1000]\n",
        "    N = 10\n",
        "    key = 500\n",
        "    \n",
        "    low = 0\n",
        "    high = len(array) - 1\n",
        "    \n",
        "    while low <= high:\n",
        "\n",
        "        mid = low + (high - low)//2\n",
        "\n",
        "        if array[mid] == key:\n",
        "            return mid\n",
        "\n",
        "        elif array[mid] < key:\n",
        "            low = mid + 1\n",
        "\n",
        "        else:\n",
        "            high = mid - 1\n",
        "\n",
        "    return -1\n",
        "\n",
        "for i in range(0, len(Array)): \n",
        "    result = binarySearch(N)\n",
        "    if result != -1:\n",
        "      print(\"Element is present at index \" + str(result))\n",
        "    else:\n",
        "      print(\"Not found\")\n",
        "\n",
        "def plotTC(fn, nMin, nMax, nInc, nTests):\n",
        "    \"\"\"\n",
        "    Run timer and plot time complexity\n",
        "    \"\"\"\n",
        "    x = []\n",
        "    y = []\n",
        "    for i in range(nMin, nMax, nInc):\n",
        "        N = i\n",
        "        testNTimer = timeit.Timer(partial(fn, N))\n",
        "        t = testNTimer.timeit(number=nTests)\n",
        "        x.append(i)\n",
        "        y.append(t)\n",
        "    p1 = pyplot.plot(x, y, 'o')\n",
        "    #pyplot.legend([p1,], [fn.__name__, ])\n",
        "\n",
        "# main() function\n",
        "def main():\n",
        "\n",
        "    plotTC(binarySearch, 10, 1000, 10, 1000)\n",
        "\n",
        "    pyplot.show()\n",
        "\n",
        "# call main\n",
        "if __name__ == '__main__':\n",
        "    main()"
      ],
      "metadata": {
        "colab": {
          "base_uri": "https://localhost:8080/",
          "height": 352
        },
        "id": "-jaB65hoGD_I",
        "outputId": "d260a4c8-94d8-49eb-e711-c4ca5f1cc4c3"
      },
      "execution_count": 128,
      "outputs": [
        {
          "output_type": "stream",
          "name": "stdout",
          "text": [
            "Element is present at index 4\n",
            "Element is present at index 4\n",
            "Element is present at index 4\n",
            "Element is present at index 4\n",
            "Element is present at index 4\n"
          ]
        },
        {
          "output_type": "display_data",
          "data": {
            "text/plain": [
              "<Figure size 432x288 with 1 Axes>"
            ],
            "image/png": "[encoded data removed]"
          },
          "metadata": {
            "needs_background": "light"
          }
        }
      ]
    }
  ]
}