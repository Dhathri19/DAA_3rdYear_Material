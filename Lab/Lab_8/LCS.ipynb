{
  "nbformat": 4,
  "nbformat_minor": 0,
  "metadata": {
    "colab": {
      "provenance": []
    },
    "kernelspec": {
      "name": "python3",
      "display_name": "Python 3"
    },
    "language_info": {
      "name": "python"
    }
  },
  "cells": [
    {
      "cell_type": "code",
      "execution_count": 5,
      "metadata": {
        "id": "Y-cK6bntZvGj",
        "colab": {
          "base_uri": "https://localhost:8080/"
        },
        "outputId": "7610937a-6ebd-4a9e-c42f-89586901e35a"
      },
      "outputs": [
        {
          "output_type": "stream",
          "name": "stdout",
          "text": [
            "please  Enter String 1 .... apple\n",
            "please Enter String 2 .... mango\n",
            "The Total length of LCS is.....     1\n",
            "LCS string\n",
            "a\n"
          ]
        }
      ],
      "source": [
        "N = 100\n",
        "L = [[0 for i in range(N)]  for j in range(N)]\n",
        "\n",
        "# LCS printing LCS function\n",
        "def findLCS(x,y,m,n):\n",
        "    s=set()\n",
        "    if m==0 or n==0:\n",
        "        s.add(\"\")\n",
        "        return s\n",
        "    if x[m-1] ==y[n-1]:\n",
        "        temp=findLCS(x,y,m-1,n-1)\n",
        "        for string in temp:\n",
        "            s.add(string+x[m-1])\n",
        "    else:\n",
        "        if L[m-1][n]>=L[m][n-1]:\n",
        "            s=findLCS(x,y,m-1,n)\n",
        "        if L[m][n-1]>=L[m-1][n]:\n",
        "             temp=findLCS(x,y,m,n-1)\n",
        "             for i in temp:\n",
        "                 s.add(i)\n",
        "    return s\n",
        "\n",
        "# LCS length finding function\n",
        "\n",
        "def LCS(x, y, m, n): \n",
        "    for i in range(m + 1): \n",
        "        for j in range(n + 1): \n",
        "            if i == 0 or j == 0: \n",
        "                L[i][j] = 0\n",
        "            elif x[i - 1] == y[j - 1]: \n",
        "                L[i][j] = L[i - 1][j - 1] + 1\n",
        "            else: \n",
        "                L[i][j] = max(L[i - 1][j], \n",
        "                              L[i][j - 1]) \n",
        "    return L[m][n] \n",
        "\n",
        "# main Part\n",
        "x=input(\"please  Enter String 1 .... \")\n",
        "y=input(\"please Enter String 2 .... \")\n",
        "m=len(x)\n",
        "n=len(y)\n",
        "\n",
        "print(\"The Total length of LCS is.....    \",LCS(x,y,m,n))\n",
        "print(\"LCS string\")\n",
        "s=findLCS(x,y,m,n)\n",
        "for i in s:\n",
        "    print(i)"
      ]
    }
  ]
}