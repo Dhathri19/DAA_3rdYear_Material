{
  "nbformat": 4,
  "nbformat_minor": 0,
  "metadata": {
    "colab": {
      "provenance": []
    },
    "kernelspec": {
      "name": "python3",
      "display_name": "Python 3"
    },
    "language_info": {
      "name": "python"
    }
  },
  "cells": [
    {
      "cell_type": "code",
      "source": [
        "import time\n",
        "from numpy.random import seed\n",
        "from numpy.random import randint\n",
        "import matplotlib.pyplot as plt\n",
        "\n",
        "def merge(arr, l, m, r):\n",
        "    n1 = m - l + 1\n",
        "    n2 = r - m\n",
        " \n",
        "    L = [0] * (n1)\n",
        "    R = [0] * (n2)\n",
        " \n",
        "    for i in range(0, n1):\n",
        "        L[i] = arr[l + i]\n",
        " \n",
        "    for j in range(0, n2):\n",
        "        R[j] = arr[m + 1 + j]\n",
        " \n",
        "    i = 0     \n",
        "    j = 0     \n",
        "    k = l     \n",
        " \n",
        "    while i < n1 and j < n2:\n",
        "        if L[i] <= R[j]:\n",
        "            arr[k] = L[i]\n",
        "            i += 1\n",
        "        else:\n",
        "            arr[k] = R[j]\n",
        "            j += 1\n",
        "        k += 1\n",
        "        \n",
        "    while i < n1:\n",
        "        arr[k] = L[i]\n",
        "        i += 1\n",
        "        k += 1\n",
        " \n",
        "    while j < n2:\n",
        "        arr[k] = R[j]\n",
        "        j += 1\n",
        "        k += 1\n",
        " \n",
        "def mergeSort(arr, l, r):\n",
        "    if l < r:\n",
        " \n",
        "        m = l+(r-l)//2\n",
        " \n",
        "        mergeSort(arr, l, m)\n",
        "        mergeSort(arr, m+1, r)\n",
        "        merge(arr, l, m, r)\n",
        " \n",
        "\n",
        "arr = []\n",
        "elements = list()\n",
        "times = list()\n",
        "\n",
        "N = int(input(\"Enter number of elements : \"))\n",
        "\n",
        "print(\"Enter the elements: \")\n",
        "for i in range(0, N):\n",
        "    ele = int(input())\n",
        "    arr.append(ele)\n",
        "print(arr)\n",
        "\n",
        "print(\"Given array is\")\n",
        "for i in range(N):\n",
        "    print(\"%d\" % arr[i],end=\" \")\n",
        " \n",
        "mergeSort(arr, 0, N-1)\n",
        "print(\"\\n\\nSorted array is\")\n",
        "for i in range(N):\n",
        "    print(\"%d\" % arr[i],end=\" \")\n",
        "\n",
        "for i in range(1, 10):\n",
        " \n",
        "    # generate some integers\n",
        "    a = randint(0, 1000 * i, 1000 * i)\n",
        "    # print(i)\n",
        "    start = time.clock()\n",
        "    mergeSort(arr, 0, len(arr)-1)\n",
        "    end = time.clock()\n",
        " \n",
        "    # print(\"Sorted list is \", a)\n",
        "    print(len(a), \"Elements Sorted by MergeSort in \", end-start)\n",
        "    elements.append(len(a))\n",
        "    times.append(end-start)\n",
        "\n",
        "plt.xlabel('List Length')\n",
        "plt.ylabel('Time Complexity')\n",
        "plt.plot(elements, times, label ='Merge Sort')\n",
        "plt.grid()\n",
        "plt.legend()\n",
        "plt.show()\n"
      ],
      "metadata": {
        "id": "i8LIZ77PlDTG",
        "colab": {
          "base_uri": "https://localhost:8080/",
          "height": 709
        },
        "outputId": "8bde4c6b-6d48-42c4-c12c-c16d44ba6633"
      },
      "execution_count": 1,
      "outputs": [
        {
          "output_type": "stream",
          "name": "stdout",
          "text": [
            "Enter number of elements : 5\n",
            "Enter the elements: \n",
            "2\n",
            "3\n",
            "1\n",
            "4\n",
            "5\n",
            "[2, 3, 1, 4, 5]\n",
            "Given array is\n",
            "2 3 1 4 5 \n",
            "\n",
            "Sorted array is\n",
            "1 2 3 4 5 1000 Elements Sorted by MergeSort in  5.799999999989147e-05\n",
            "2000 Elements Sorted by MergeSort in  1.6999999999933735e-05\n",
            "3000 Elements Sorted by MergeSort in  3.100000000011427e-05\n",
            "4000 Elements Sorted by MergeSort in  1.6999999999933735e-05\n",
            "5000 Elements Sorted by MergeSort in  1.6000000000016e-05\n",
            "6000 Elements Sorted by MergeSort in  1.6000000000016e-05\n",
            "7000 Elements Sorted by MergeSort in  1.5000000000098268e-05\n",
            "8000 Elements Sorted by MergeSort in  1.4999999999876223e-05\n",
            "9000 Elements Sorted by MergeSort in  3.700000000006476e-05\n"
          ]
        },
        {
          "output_type": "stream",
          "name": "stderr",
          "text": [
            "/usr/local/lib/python3.7/dist-packages/ipykernel_launcher.py:78: DeprecationWarning: time.clock has been deprecated in Python 3.3 and will be removed from Python 3.8: use time.perf_counter or time.process_time instead\n",
            "/usr/local/lib/python3.7/dist-packages/ipykernel_launcher.py:80: DeprecationWarning: time.clock has been deprecated in Python 3.3 and will be removed from Python 3.8: use time.perf_counter or time.process_time instead\n"
          ]
        },
        {
          "output_type": "display_data",
          "data": {
            "text/plain": [
              "<Figure size 432x288 with 1 Axes>"
            ],
            "image/png": "[encoded data removed]"
          },
          "metadata": {
            "needs_background": "light"
          }
        }
      ]
    }
  ]
}