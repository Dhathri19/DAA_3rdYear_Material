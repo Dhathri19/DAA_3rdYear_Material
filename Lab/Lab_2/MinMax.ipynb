{
  "nbformat": 4,
  "nbformat_minor": 0,
  "metadata": {
    "colab": {
      "provenance": []
    },
    "kernelspec": {
      "name": "python3",
      "display_name": "Python 3"
    },
    "language_info": {
      "name": "python"
    }
  },
  "cells": [
    {
      "cell_type": "code",
      "source": [
        "import time\n",
        "from numpy.random import seed\n",
        "from numpy.random import randint\n",
        "import matplotlib.pyplot as plt\n",
        "\n",
        "def getMinMax(low, high, arr):\n",
        "    arr_max = arr[low]\n",
        "    arr_min = arr[low]\n",
        " \n",
        "    if low == high:\n",
        "        arr_max = arr[low]\n",
        "        arr_min = arr[low]\n",
        "        return (arr_max, arr_min)\n",
        " \n",
        "    elif high == low + 1:\n",
        "        if arr[low] > arr[high]:\n",
        "            arr_max = arr[low]\n",
        "            arr_min = arr[high]\n",
        "        else:\n",
        "            arr_max = arr[high]\n",
        "            arr_min = arr[low]\n",
        "        return (arr_max, arr_min)\n",
        "    else:\n",
        "        mid = int((low + high) / 2)\n",
        "        arr_max1, arr_min1 = getMinMax(low, mid, arr)\n",
        "        arr_max2, arr_min2 = getMinMax(mid + 1, high, arr)\n",
        " \n",
        "    return (max(arr_max1, arr_max2), min(arr_min1, arr_min2))\n",
        "\n",
        "arr = []\n",
        "elements = list()\n",
        "times = list()\n",
        "\n",
        "N = int(input(\"Enter number of elements : \"))\n",
        "\n",
        "print(\"Enter the elements: \")\n",
        "for i in range(0, N):\n",
        "    ele = int(input())\n",
        "    arr.append(ele)\n",
        "print(arr)\n",
        "\n",
        "print(\"Given array is\")\n",
        "for i in range(N):\n",
        "    print(\"%d\" % arr[i],end=\" \")\n",
        " \n",
        "arr_max, arr_min = getMinMax(0, len(arr) - 1, arr)\n",
        "print(\"\\n\")\n",
        "print(\"Maximum element is\", arr_max)\n",
        "print(\"Minimum element is\", arr_min)\n",
        "\n",
        "for i in range(1, 10):\n",
        " \n",
        "    # generate some integers\n",
        "    a = randint(0, 10000 * i, 10000 * i)\n",
        "    # print(i)\n",
        "    start = time.clock()\n",
        "    getMinMax(0, len(a) - 1, a)\n",
        "    end = time.clock()\n",
        " \n",
        "    # print(\"Sorted list is \", a)\n",
        "    print(len(a), \"Elements used in Max and Min \", end-start)\n",
        "    elements.append(len(a))\n",
        "    times.append(end-start)\n",
        "\n",
        "plt.xlabel('List Length')\n",
        "plt.ylabel('Time Complexity')\n",
        "plt.plot(elements, times, label ='Min and Max')\n",
        "plt.grid()\n",
        "plt.legend()\n",
        "plt.show()\n",
        "\n",
        "     "
      ],
      "metadata": {
        "colab": {
          "base_uri": "https://localhost:8080/",
          "height": 733
        },
        "id": "N6cocorl1aaw",
        "outputId": "e8e2d682-423d-4f2c-b6d8-c2c0575d1ee9"
      },
      "execution_count": 20,
      "outputs": [
        {
          "output_type": "stream",
          "name": "stdout",
          "text": [
            "Enter number of elements : 6\n",
            "Enter the elements: \n",
            "2\n",
            "3\n",
            "4\n",
            "5\n",
            "6\n",
            "7\n",
            "[2, 3, 4, 5, 6, 7]\n",
            "Given array is\n",
            "2 3 4 5 6 7 \n",
            "\n",
            "Maximum element is 7\n",
            "Minimum element is 2\n",
            "10000 Elements used in Max and Min  0.023055000000006487\n",
            "20000 Elements used in Max and Min  0.038969000000001586\n",
            "30000 Elements used in Max and Min  0.05650999999999584\n"
          ]
        },
        {
          "output_type": "stream",
          "name": "stderr",
          "text": [
            "/usr/local/lib/python3.7/dist-packages/ipykernel_launcher.py:56: DeprecationWarning: time.clock has been deprecated in Python 3.3 and will be removed from Python 3.8: use time.perf_counter or time.process_time instead\n",
            "/usr/local/lib/python3.7/dist-packages/ipykernel_launcher.py:58: DeprecationWarning: time.clock has been deprecated in Python 3.3 and will be removed from Python 3.8: use time.perf_counter or time.process_time instead\n"
          ]
        },
        {
          "output_type": "stream",
          "name": "stdout",
          "text": [
            "40000 Elements used in Max and Min  0.07234099999999444\n",
            "50000 Elements used in Max and Min  0.0591580000000036\n",
            "60000 Elements used in Max and Min  0.06490699999999805\n",
            "70000 Elements used in Max and Min  0.07703300000000013\n",
            "80000 Elements used in Max and Min  0.08906199999999842\n",
            "90000 Elements used in Max and Min  0.10982399999999615\n"
          ]
        },
        {
          "output_type": "display_data",
          "data": {
            "text/plain": [
              "<Figure size 432x288 with 1 Axes>"
            ],
            "image/png": "[encoded data removed]"
          },
          "metadata": {
            "needs_background": "light"
          }
        }
      ]
    }
  ]
}